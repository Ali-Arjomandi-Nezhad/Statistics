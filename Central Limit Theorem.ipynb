{
 "cells": [
  {
   "cell_type": "code",
   "execution_count": 17,
   "metadata": {},
   "outputs": [
    {
     "data": {
      "text/plain": [
       "array([1, 1, 0, 1, 0, 0, 1, 0, 0, 0, 1, 0, 0, 0, 0, 0, 0, 0, 1, 0])"
      ]
     },
     "execution_count": 17,
     "metadata": {},
     "output_type": "execute_result"
    }
   ],
   "source": [
    "import numpy as np\n",
    "A=np.random.binomial(1, 0.3, 20)\n",
    "A"
   ]
  },
  {
   "cell_type": "code",
   "execution_count": 18,
   "metadata": {},
   "outputs": [],
   "source": [
    "B=np.random.binomial(1, 0.3, 300000)\n",
    "\n",
    "D=np.array([])\n",
    "for i in range(500):\n",
    "    C=B[i*600:(i+1)*600]\n",
    "    avg=np.mean(C)\n",
    "    D=np.append(D,avg)\n",
    "    \n"
   ]
  },
  {
   "cell_type": "code",
   "execution_count": 19,
   "metadata": {},
   "outputs": [
    {
     "data": {
      "text/plain": [
       "array([0.26833333, 0.31833333, 0.32333333, 0.30833333, 0.3       ,\n",
       "       0.325     , 0.28166667, 0.28      , 0.29166667, 0.29333333,\n",
       "       0.335     , 0.295     , 0.305     , 0.285     , 0.27166667,\n",
       "       0.31      , 0.315     , 0.27      , 0.29      , 0.305     ,\n",
       "       0.29833333, 0.32333333, 0.31666667, 0.285     , 0.28166667,\n",
       "       0.27333333, 0.30666667, 0.32666667, 0.32333333, 0.28666667,\n",
       "       0.29666667, 0.3       , 0.32      , 0.30666667, 0.25166667,\n",
       "       0.31166667, 0.305     , 0.285     , 0.30166667, 0.31333333,\n",
       "       0.30333333, 0.30833333, 0.30166667, 0.31333333, 0.295     ,\n",
       "       0.28333333, 0.29333333, 0.27      , 0.31166667, 0.31666667,\n",
       "       0.29666667, 0.27833333, 0.28833333, 0.26833333, 0.3       ,\n",
       "       0.315     , 0.27833333, 0.31      , 0.315     , 0.26333333,\n",
       "       0.285     , 0.27      , 0.32166667, 0.30166667, 0.28833333,\n",
       "       0.315     , 0.3       , 0.28333333, 0.295     , 0.325     ,\n",
       "       0.29333333, 0.29      , 0.29166667, 0.31166667, 0.28333333,\n",
       "       0.28666667, 0.30666667, 0.32333333, 0.27833333, 0.275     ,\n",
       "       0.30833333, 0.30333333, 0.29833333, 0.29666667, 0.3       ,\n",
       "       0.26333333, 0.27666667, 0.32166667, 0.28666667, 0.28166667,\n",
       "       0.29333333, 0.30833333, 0.30833333, 0.29166667, 0.32      ,\n",
       "       0.28833333, 0.30333333, 0.32      , 0.29666667, 0.31166667,\n",
       "       0.33166667, 0.32166667, 0.33833333, 0.29666667, 0.3       ,\n",
       "       0.28      , 0.29666667, 0.27833333, 0.31      , 0.28166667,\n",
       "       0.28      , 0.27      , 0.30166667, 0.295     , 0.29      ,\n",
       "       0.29      , 0.29666667, 0.335     , 0.29333333, 0.31333333,\n",
       "       0.29833333, 0.295     , 0.25833333, 0.285     , 0.3       ,\n",
       "       0.31333333, 0.31666667, 0.275     , 0.29333333, 0.31      ,\n",
       "       0.33      , 0.295     , 0.30166667, 0.29666667, 0.30833333,\n",
       "       0.29166667, 0.28      , 0.32333333, 0.25166667, 0.295     ,\n",
       "       0.26833333, 0.29666667, 0.28833333, 0.265     , 0.29166667,\n",
       "       0.28666667, 0.31      , 0.30666667, 0.31166667, 0.27833333,\n",
       "       0.30166667, 0.28833333, 0.30666667, 0.305     , 0.32      ,\n",
       "       0.30833333, 0.31166667, 0.26833333, 0.29166667, 0.28333333,\n",
       "       0.28833333, 0.32333333, 0.29166667, 0.28      , 0.29      ,\n",
       "       0.29166667, 0.29166667, 0.30833333, 0.305     , 0.32333333,\n",
       "       0.32666667, 0.32333333, 0.29833333, 0.34      , 0.31833333,\n",
       "       0.29      , 0.30833333, 0.34      , 0.28666667, 0.30833333,\n",
       "       0.32666667, 0.32666667, 0.28666667, 0.28333333, 0.31833333,\n",
       "       0.30666667, 0.30833333, 0.34666667, 0.3       , 0.29666667,\n",
       "       0.28666667, 0.295     , 0.26333333, 0.31666667, 0.29833333,\n",
       "       0.29833333, 0.29166667, 0.30166667, 0.32      , 0.28833333,\n",
       "       0.29      , 0.26      , 0.31166667, 0.27333333, 0.33666667,\n",
       "       0.31833333, 0.26666667, 0.315     , 0.29166667, 0.30166667,\n",
       "       0.31      , 0.28666667, 0.30833333, 0.315     , 0.275     ,\n",
       "       0.29833333, 0.27      , 0.32166667, 0.30333333, 0.33666667,\n",
       "       0.30666667, 0.28666667, 0.3       , 0.275     , 0.33333333,\n",
       "       0.29833333, 0.28166667, 0.295     , 0.295     , 0.29      ,\n",
       "       0.28666667, 0.29833333, 0.28      , 0.285     , 0.28166667,\n",
       "       0.27666667, 0.27333333, 0.28833333, 0.31333333, 0.29333333,\n",
       "       0.30833333, 0.32      , 0.31333333, 0.31833333, 0.30666667,\n",
       "       0.33833333, 0.29      , 0.31      , 0.29166667, 0.27166667,\n",
       "       0.28166667, 0.27166667, 0.28166667, 0.30666667, 0.31333333,\n",
       "       0.30833333, 0.29666667, 0.30166667, 0.26833333, 0.29666667,\n",
       "       0.32666667, 0.28166667, 0.325     , 0.28166667, 0.295     ,\n",
       "       0.30666667, 0.32      , 0.30166667, 0.25833333, 0.305     ,\n",
       "       0.28666667, 0.285     , 0.30666667, 0.285     , 0.29      ,\n",
       "       0.29833333, 0.31      , 0.28166667, 0.28666667, 0.30333333,\n",
       "       0.35      , 0.295     , 0.32      , 0.29333333, 0.275     ,\n",
       "       0.3       , 0.29833333, 0.34      , 0.30166667, 0.28333333,\n",
       "       0.26833333, 0.28666667, 0.30833333, 0.31333333, 0.29666667,\n",
       "       0.295     , 0.31333333, 0.29333333, 0.32833333, 0.29666667,\n",
       "       0.30833333, 0.29333333, 0.29333333, 0.31833333, 0.30166667,\n",
       "       0.28333333, 0.29166667, 0.29833333, 0.31      , 0.33166667,\n",
       "       0.33166667, 0.28666667, 0.285     , 0.325     , 0.31333333,\n",
       "       0.31      , 0.3       , 0.265     , 0.31333333, 0.295     ,\n",
       "       0.275     , 0.31333333, 0.27333333, 0.31166667, 0.28666667,\n",
       "       0.31666667, 0.27      , 0.30833333, 0.31666667, 0.29      ,\n",
       "       0.27      , 0.27333333, 0.30166667, 0.31166667, 0.32      ,\n",
       "       0.32833333, 0.285     , 0.315     , 0.325     , 0.30833333,\n",
       "       0.28333333, 0.33166667, 0.30666667, 0.29833333, 0.31      ,\n",
       "       0.275     , 0.30166667, 0.29333333, 0.33333333, 0.30333333,\n",
       "       0.28      , 0.29833333, 0.30833333, 0.31666667, 0.28333333,\n",
       "       0.26666667, 0.275     , 0.29      , 0.31166667, 0.305     ,\n",
       "       0.32666667, 0.29833333, 0.29333333, 0.31      , 0.30833333,\n",
       "       0.29666667, 0.30666667, 0.305     , 0.29      , 0.29666667,\n",
       "       0.28666667, 0.28666667, 0.32333333, 0.29833333, 0.295     ,\n",
       "       0.28      , 0.33166667, 0.28333333, 0.29      , 0.305     ,\n",
       "       0.30833333, 0.29      , 0.29      , 0.285     , 0.29666667,\n",
       "       0.28666667, 0.335     , 0.27833333, 0.31166667, 0.28666667,\n",
       "       0.32      , 0.31      , 0.27666667, 0.28166667, 0.32666667,\n",
       "       0.26666667, 0.275     , 0.26833333, 0.28      , 0.30666667,\n",
       "       0.27666667, 0.29166667, 0.305     , 0.305     , 0.29833333,\n",
       "       0.29333333, 0.305     , 0.31833333, 0.32333333, 0.30666667,\n",
       "       0.31833333, 0.265     , 0.28666667, 0.30666667, 0.29666667,\n",
       "       0.3       , 0.305     , 0.29833333, 0.30166667, 0.28833333,\n",
       "       0.28      , 0.3       , 0.28166667, 0.27666667, 0.27      ,\n",
       "       0.29333333, 0.28166667, 0.305     , 0.31833333, 0.26333333,\n",
       "       0.30833333, 0.325     , 0.29833333, 0.26666667, 0.30166667,\n",
       "       0.315     , 0.27833333, 0.31833333, 0.29166667, 0.28      ,\n",
       "       0.295     , 0.275     , 0.29      , 0.31333333, 0.26666667,\n",
       "       0.315     , 0.34      , 0.29666667, 0.31666667, 0.29833333,\n",
       "       0.28166667, 0.30833333, 0.29      , 0.305     , 0.32333333,\n",
       "       0.26166667, 0.315     , 0.28666667, 0.35333333, 0.295     ,\n",
       "       0.345     , 0.255     , 0.28      , 0.27333333, 0.30333333,\n",
       "       0.30166667, 0.30166667, 0.27333333, 0.33166667, 0.27666667,\n",
       "       0.31166667, 0.28      , 0.30333333, 0.275     , 0.31333333,\n",
       "       0.295     , 0.29      , 0.31166667, 0.29166667, 0.30333333,\n",
       "       0.29666667, 0.28      , 0.28333333, 0.27833333, 0.29      ,\n",
       "       0.32166667, 0.28666667, 0.34166667, 0.31833333, 0.29333333,\n",
       "       0.32      , 0.28      , 0.31      , 0.30333333, 0.31333333,\n",
       "       0.305     , 0.295     , 0.33166667, 0.33833333, 0.28666667])"
      ]
     },
     "execution_count": 19,
     "metadata": {},
     "output_type": "execute_result"
    }
   ],
   "source": [
    "D"
   ]
  },
  {
   "cell_type": "code",
   "execution_count": 8,
   "metadata": {},
   "outputs": [
    {
     "data": {
      "image/png": "[encoded data removed]",
      "text/plain": [
       "<Figure size 432x288 with 1 Axes>"
      ]
     },
     "metadata": {
      "needs_background": "light"
     },
     "output_type": "display_data"
    }
   ],
   "source": [
    "import matplotlib.pyplot as plt\n",
    "plt.hist(D, bins=10);"
   ]
  },
  {
   "cell_type": "code",
   "execution_count": 20,
   "metadata": {},
   "outputs": [],
   "source": [
    "u=np.mean(D)\n",
    "vari=np.var(D)"
   ]
  },
  {
   "cell_type": "code",
   "execution_count": 21,
   "metadata": {},
   "outputs": [
    {
     "data": {
      "text/plain": [
       "0.2987833333333333"
      ]
     },
     "execution_count": 21,
     "metadata": {},
     "output_type": "execute_result"
    }
   ],
   "source": [
    "u"
   ]
  },
  {
   "cell_type": "code",
   "execution_count": 22,
   "metadata": {},
   "outputs": [
    {
     "data": {
      "text/plain": [
       "0.00033522527777777775"
      ]
     },
     "execution_count": 22,
     "metadata": {},
     "output_type": "execute_result"
    }
   ],
   "source": [
    "vari"
   ]
  },
  {
   "cell_type": "code",
   "execution_count": 23,
   "metadata": {},
   "outputs": [
    {
     "data": {
      "text/plain": [
       "0.00035"
      ]
     },
     "execution_count": 23,
     "metadata": {},
     "output_type": "execute_result"
    }
   ],
   "source": [
    "(0.3)*(1-0.3)/600"
   ]
  },
  {
   "cell_type": "code",
   "execution_count": 24,
   "metadata": {},
   "outputs": [],
   "source": [
    "nmb, value=np.histogram(D)"
   ]
  },
  {
   "cell_type": "code",
   "execution_count": 25,
   "metadata": {},
   "outputs": [
    {
     "data": {
      "text/plain": [
       "array([  7,  30,  62,  90, 106,  92,  60,  34,  15,   4], dtype=int64)"
      ]
     },
     "execution_count": 25,
     "metadata": {},
     "output_type": "execute_result"
    }
   ],
   "source": [
    "nmb"
   ]
  },
  {
   "cell_type": "code",
   "execution_count": 26,
   "metadata": {},
   "outputs": [
    {
     "data": {
      "text/plain": [
       "array([0.25166667, 0.26183333, 0.272     , 0.28216667, 0.29233333,\n",
       "       0.3025    , 0.31266667, 0.32283333, 0.333     , 0.34316667,\n",
       "       0.35333333])"
      ]
     },
     "execution_count": 26,
     "metadata": {},
     "output_type": "execute_result"
    }
   ],
   "source": [
    "value"
   ]
  },
  {
   "cell_type": "code",
   "execution_count": 28,
   "metadata": {},
   "outputs": [
    {
     "name": "stdout",
     "output_type": "stream",
     "text": [
      "We are 76.4 percent sure that p is between 0.2821666666666667 , 0.3228333333333333 \n"
     ]
    }
   ],
   "source": [
    "print('We are {0} percent sure that p is between {1} , {2} '.format(100*(np.sum(nmb[3:8]))/np.sum(nmb) ,  value[3] , value[7]))"
   ]
  },
  {
   "cell_type": "code",
   "execution_count": null,
   "metadata": {},
   "outputs": [],
   "source": []
  }
 ],
 "metadata": {
  "kernelspec": {
   "display_name": "Python 3",
   "language": "python",
   "name": "python3"
  },
  "language_info": {
   "codemirror_mode": {
    "name": "ipython",
    "version": 3
   },
   "file_extension": ".py",
   "mimetype": "text/x-python",
   "name": "python",
   "nbconvert_exporter": "python",
   "pygments_lexer": "ipython3",
   "version": "3.7.4"
  }
 },
 "nbformat": 4,
 "nbformat_minor": 2
}
