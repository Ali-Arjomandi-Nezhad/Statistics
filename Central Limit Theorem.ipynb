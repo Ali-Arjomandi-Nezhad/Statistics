{
 "cells": [
  {
   "cell_type": "code",
   "execution_count": 1,
   "metadata": {},
   "outputs": [
    {
     "data": {
      "text/plain": [
       "array([0, 0, 0, 0, 0, 1, 1, 1, 0, 0, 0, 1, 0, 0, 0, 1, 0, 0, 1, 0])"
      ]
     },
     "execution_count": 1,
     "metadata": {},
     "output_type": "execute_result"
    }
   ],
   "source": [
    "import numpy as np\n",
    "A=np.random.binomial(1, 0.3, 20)\n",
    "A"
   ]
  },
  {
   "cell_type": "code",
   "execution_count": 2,
   "metadata": {},
   "outputs": [],
   "source": [
    "B=np.random.binomial(1, 0.3, 300000)\n",
    "\n",
    "D=np.array([])\n",
    "for i in range(500):\n",
    "    C=B[i*600:(i+1)*600]\n",
    "    avg=np.mean(C)\n",
    "    D=np.append(D,avg)\n",
    "    \n"
   ]
  },
  {
   "cell_type": "code",
   "execution_count": 3,
   "metadata": {},
   "outputs": [
    {
     "data": {
      "text/plain": [
       "array([0.31833333, 0.30666667, 0.33666667, 0.285     , 0.27833333,\n",
       "       0.31166667, 0.31166667, 0.305     , 0.305     , 0.31833333,\n",
       "       0.3       , 0.28833333, 0.30833333, 0.31333333, 0.295     ,\n",
       "       0.315     , 0.335     , 0.29833333, 0.32333333, 0.33166667,\n",
       "       0.305     , 0.28166667, 0.30666667, 0.34      , 0.29833333,\n",
       "       0.28833333, 0.33666667, 0.305     , 0.25166667, 0.31833333,\n",
       "       0.285     , 0.29833333, 0.28666667, 0.32166667, 0.305     ,\n",
       "       0.29666667, 0.32      , 0.33166667, 0.27666667, 0.335     ,\n",
       "       0.28833333, 0.29666667, 0.31      , 0.26833333, 0.3       ,\n",
       "       0.28      , 0.3       , 0.33166667, 0.29      , 0.30833333,\n",
       "       0.29      , 0.29833333, 0.3       , 0.29166667, 0.29666667,\n",
       "       0.305     , 0.30333333, 0.28333333, 0.29      , 0.3       ,\n",
       "       0.3       , 0.3       , 0.295     , 0.305     , 0.29166667,\n",
       "       0.27666667, 0.28333333, 0.325     , 0.275     , 0.30333333,\n",
       "       0.29833333, 0.29666667, 0.31333333, 0.3       , 0.28333333,\n",
       "       0.315     , 0.29      , 0.26833333, 0.29833333, 0.25833333,\n",
       "       0.29833333, 0.32166667, 0.29166667, 0.30333333, 0.25833333,\n",
       "       0.28666667, 0.29166667, 0.30666667, 0.28      , 0.355     ,\n",
       "       0.265     , 0.28166667, 0.30166667, 0.28166667, 0.295     ,\n",
       "       0.31      , 0.305     , 0.33166667, 0.27666667, 0.29666667,\n",
       "       0.30333333, 0.29333333, 0.3       , 0.26833333, 0.29333333,\n",
       "       0.29833333, 0.27833333, 0.30166667, 0.325     , 0.28666667,\n",
       "       0.32166667, 0.28166667, 0.3       , 0.28333333, 0.31333333,\n",
       "       0.30833333, 0.28166667, 0.32333333, 0.285     , 0.335     ,\n",
       "       0.305     , 0.30833333, 0.31333333, 0.31      , 0.30666667,\n",
       "       0.31666667, 0.31166667, 0.305     , 0.29      , 0.27666667,\n",
       "       0.305     , 0.3       , 0.30666667, 0.285     , 0.27833333,\n",
       "       0.32166667, 0.29166667, 0.31      , 0.31666667, 0.30333333,\n",
       "       0.28833333, 0.29833333, 0.32166667, 0.28      , 0.29833333,\n",
       "       0.305     , 0.31833333, 0.28166667, 0.28666667, 0.29666667,\n",
       "       0.3       , 0.31833333, 0.3       , 0.30166667, 0.32833333,\n",
       "       0.30166667, 0.29      , 0.31      , 0.29166667, 0.28333333,\n",
       "       0.31333333, 0.30666667, 0.28166667, 0.32166667, 0.31      ,\n",
       "       0.31333333, 0.32833333, 0.27833333, 0.31333333, 0.3       ,\n",
       "       0.34333333, 0.295     , 0.3       , 0.285     , 0.28166667,\n",
       "       0.28666667, 0.27      , 0.29166667, 0.32      , 0.33166667,\n",
       "       0.29333333, 0.30166667, 0.32      , 0.28333333, 0.30833333,\n",
       "       0.265     , 0.34166667, 0.29833333, 0.27666667, 0.30166667,\n",
       "       0.285     , 0.29      , 0.31      , 0.28333333, 0.27166667,\n",
       "       0.31666667, 0.3       , 0.27666667, 0.32833333, 0.31833333,\n",
       "       0.32833333, 0.27166667, 0.28333333, 0.29      , 0.31333333,\n",
       "       0.305     , 0.31333333, 0.30666667, 0.30333333, 0.295     ,\n",
       "       0.30166667, 0.30333333, 0.29833333, 0.315     , 0.26      ,\n",
       "       0.31333333, 0.31666667, 0.29      , 0.29666667, 0.32833333,\n",
       "       0.29833333, 0.30666667, 0.32833333, 0.29333333, 0.285     ,\n",
       "       0.29166667, 0.295     , 0.28833333, 0.3       , 0.30166667,\n",
       "       0.29833333, 0.27166667, 0.305     , 0.29833333, 0.295     ,\n",
       "       0.30833333, 0.29666667, 0.31      , 0.32333333, 0.31666667,\n",
       "       0.29333333, 0.31833333, 0.26666667, 0.29666667, 0.28666667,\n",
       "       0.32666667, 0.28666667, 0.27666667, 0.31333333, 0.31333333,\n",
       "       0.31333333, 0.26333333, 0.32      , 0.325     , 0.29333333,\n",
       "       0.27166667, 0.30333333, 0.34833333, 0.31      , 0.26333333,\n",
       "       0.33166667, 0.29166667, 0.29      , 0.27833333, 0.29666667,\n",
       "       0.305     , 0.29666667, 0.295     , 0.29833333, 0.31166667,\n",
       "       0.30833333, 0.345     , 0.29333333, 0.33333333, 0.30833333,\n",
       "       0.30166667, 0.28666667, 0.30333333, 0.33      , 0.3       ,\n",
       "       0.3       , 0.32166667, 0.285     , 0.28166667, 0.31666667,\n",
       "       0.28833333, 0.29      , 0.29      , 0.33833333, 0.33333333,\n",
       "       0.32      , 0.30166667, 0.32      , 0.32333333, 0.30333333,\n",
       "       0.31666667, 0.29      , 0.295     , 0.31833333, 0.30166667,\n",
       "       0.30666667, 0.295     , 0.31666667, 0.27166667, 0.32166667,\n",
       "       0.28166667, 0.30833333, 0.30166667, 0.30666667, 0.27666667,\n",
       "       0.28833333, 0.28833333, 0.28      , 0.305     , 0.3       ,\n",
       "       0.31666667, 0.26666667, 0.29      , 0.29      , 0.25833333,\n",
       "       0.29666667, 0.33666667, 0.27333333, 0.29666667, 0.26833333,\n",
       "       0.28      , 0.345     , 0.3       , 0.28333333, 0.285     ,\n",
       "       0.26833333, 0.28      , 0.29833333, 0.29166667, 0.31333333,\n",
       "       0.29      , 0.30333333, 0.29833333, 0.32333333, 0.305     ,\n",
       "       0.29166667, 0.3       , 0.29666667, 0.28333333, 0.33833333,\n",
       "       0.28166667, 0.335     , 0.30666667, 0.30166667, 0.28666667,\n",
       "       0.28833333, 0.27833333, 0.30166667, 0.30833333, 0.32333333,\n",
       "       0.275     , 0.29      , 0.32833333, 0.33333333, 0.29      ,\n",
       "       0.265     , 0.30333333, 0.29833333, 0.295     , 0.27833333,\n",
       "       0.35      , 0.29166667, 0.28666667, 0.32166667, 0.28666667,\n",
       "       0.27333333, 0.285     , 0.26333333, 0.29833333, 0.295     ,\n",
       "       0.28666667, 0.27666667, 0.29666667, 0.32666667, 0.32833333,\n",
       "       0.30166667, 0.30666667, 0.32      , 0.32833333, 0.30166667,\n",
       "       0.31      , 0.34      , 0.315     , 0.31333333, 0.28333333,\n",
       "       0.28166667, 0.32333333, 0.3       , 0.32833333, 0.295     ,\n",
       "       0.3       , 0.32166667, 0.30833333, 0.28166667, 0.28833333,\n",
       "       0.30333333, 0.29333333, 0.31166667, 0.34      , 0.30166667,\n",
       "       0.33166667, 0.28833333, 0.28833333, 0.25      , 0.305     ,\n",
       "       0.3       , 0.33333333, 0.30333333, 0.28833333, 0.26666667,\n",
       "       0.31333333, 0.29666667, 0.285     , 0.27666667, 0.25666667,\n",
       "       0.27166667, 0.29333333, 0.31833333, 0.30666667, 0.325     ,\n",
       "       0.28833333, 0.30333333, 0.30166667, 0.295     , 0.32166667,\n",
       "       0.305     , 0.31833333, 0.30833333, 0.29666667, 0.29833333,\n",
       "       0.335     , 0.30833333, 0.30333333, 0.28833333, 0.295     ,\n",
       "       0.30833333, 0.32      , 0.29166667, 0.32333333, 0.32666667,\n",
       "       0.28      , 0.33333333, 0.245     , 0.29833333, 0.285     ,\n",
       "       0.30666667, 0.32166667, 0.28666667, 0.3       , 0.32166667,\n",
       "       0.31333333, 0.28833333, 0.31833333, 0.28666667, 0.315     ,\n",
       "       0.29333333, 0.30666667, 0.34333333, 0.30333333, 0.29666667,\n",
       "       0.28      , 0.295     , 0.32666667, 0.27666667, 0.3       ,\n",
       "       0.33333333, 0.33      , 0.31666667, 0.30833333, 0.295     ,\n",
       "       0.30666667, 0.30666667, 0.29833333, 0.36      , 0.29166667,\n",
       "       0.31      , 0.31      , 0.305     , 0.28      , 0.295     ,\n",
       "       0.31333333, 0.29833333, 0.35      , 0.29333333, 0.28833333,\n",
       "       0.31      , 0.31666667, 0.29166667, 0.31333333, 0.3       ,\n",
       "       0.31833333, 0.29666667, 0.26      , 0.28833333, 0.24833333])"
      ]
     },
     "execution_count": 3,
     "metadata": {},
     "output_type": "execute_result"
    }
   ],
   "source": [
    "D"
   ]
  },
  {
   "cell_type": "code",
   "execution_count": 13,
   "metadata": {},
   "outputs": [
    {
     "data": {
      "image/png": "[encoded data removed]",
      "text/plain": [
       "<Figure size 432x288 with 1 Axes>"
      ]
     },
     "metadata": {
      "needs_background": "light"
     },
     "output_type": "display_data"
    }
   ],
   "source": [
    "import matplotlib.pyplot as plt\n",
    "plt.hist(D, bins=10);"
   ]
  },
  {
   "cell_type": "code",
   "execution_count": 5,
   "metadata": {},
   "outputs": [],
   "source": [
    "u=np.mean(D)\n",
    "vari=np.var(D)"
   ]
  },
  {
   "cell_type": "code",
   "execution_count": 6,
   "metadata": {},
   "outputs": [
    {
     "data": {
      "text/plain": [
       "0.30104000000000003"
      ]
     },
     "execution_count": 6,
     "metadata": {},
     "output_type": "execute_result"
    }
   ],
   "source": [
    "u"
   ]
  },
  {
   "cell_type": "code",
   "execution_count": 7,
   "metadata": {},
   "outputs": [
    {
     "data": {
      "text/plain": [
       "0.00035348506666666666"
      ]
     },
     "execution_count": 7,
     "metadata": {},
     "output_type": "execute_result"
    }
   ],
   "source": [
    "vari"
   ]
  },
  {
   "cell_type": "code",
   "execution_count": 8,
   "metadata": {},
   "outputs": [
    {
     "data": {
      "text/plain": [
       "0.00035"
      ]
     },
     "execution_count": 8,
     "metadata": {},
     "output_type": "execute_result"
    }
   ],
   "source": [
    "(0.3)*(1-0.3)/600"
   ]
  },
  {
   "cell_type": "code",
   "execution_count": 9,
   "metadata": {},
   "outputs": [],
   "source": [
    "nmb, value=np.histogram(D)"
   ]
  },
  {
   "cell_type": "code",
   "execution_count": 10,
   "metadata": {},
   "outputs": [
    {
     "data": {
      "text/plain": [
       "array([  4,  15,  34,  95, 133, 106,  61,  37,  11,   4], dtype=int64)"
      ]
     },
     "execution_count": 10,
     "metadata": {},
     "output_type": "execute_result"
    }
   ],
   "source": [
    "nmb"
   ]
  },
  {
   "cell_type": "code",
   "execution_count": 11,
   "metadata": {},
   "outputs": [
    {
     "data": {
      "text/plain": [
       "array([0.245 , 0.2565, 0.268 , 0.2795, 0.291 , 0.3025, 0.314 , 0.3255,\n",
       "       0.337 , 0.3485, 0.36  ])"
      ]
     },
     "execution_count": 11,
     "metadata": {},
     "output_type": "execute_result"
    }
   ],
   "source": [
    "value"
   ]
  },
  {
   "cell_type": "code",
   "execution_count": 12,
   "metadata": {},
   "outputs": [
    {
     "name": "stdout",
     "output_type": "stream",
     "text": [
      "We are 86.4 percent sure that p is between 0.27949999999999997 , 0.3255 \n"
     ]
    }
   ],
   "source": [
    "print('We are {0} percent sure that p is between {1} , {2} '.format(100*(np.sum(nmb[3:8]))/np.sum(nmb) ,  value[3] , value[7]))"
   ]
  },
  {
   "cell_type": "code",
   "execution_count": null,
   "metadata": {},
   "outputs": [],
   "source": []
  }
 ],
 "metadata": {
  "kernelspec": {
   "display_name": "Python 3",
   "language": "python",
   "name": "python3"
  },
  "language_info": {
   "codemirror_mode": {
    "name": "ipython",
    "version": 3
   },
   "file_extension": ".py",
   "mimetype": "text/x-python",
   "name": "python",
   "nbconvert_exporter": "python",
   "pygments_lexer": "ipython3",
   "version": "3.7.4"
  }
 },
 "nbformat": 4,
 "nbformat_minor": 2
}
